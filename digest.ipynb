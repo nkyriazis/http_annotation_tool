{
 "nbformat": 4,
 "nbformat_minor": 2,
 "metadata": {
  "language_info": {
   "name": "python",
   "codemirror_mode": {
    "name": "ipython",
    "version": 3
   },
   "version": "3.7.5-final"
  },
  "orig_nbformat": 2,
  "file_extension": ".py",
  "mimetype": "text/x-python",
  "name": "python",
  "npconvert_exporter": "python",
  "pygments_lexer": "ipython3",
  "version": 3,
  "kernelspec": {
   "name": "python37564bit00765a1e5e284110a14addfaf22b5086",
   "display_name": "Python 3.7.5 64-bit"
  }
 },
 "cells": [
  {
   "cell_type": "markdown",
   "metadata": {},
   "source": [
    "# Get a copy of the repo"
   ],
   "execution_count": null,
   "outputs": []
  },
  {
   "cell_type": "code",
   "execution_count": null,
   "metadata": {},
   "outputs": [],
   "source": [
    "!rm -rf examine_repo\n",
    "!cp -r .backup examine_repo"
   ]
  },
  {
   "cell_type": "code",
   "execution_count": null,
   "metadata": {},
   "outputs": [],
   "source": [
    "import git\n",
    "import io\n",
    "import json\n",
    "from tqdm import tqdm\n",
    "from glob import glob\n",
    "import numpy as np"
   ]
  },
  {
   "cell_type": "code",
   "execution_count": null,
   "metadata": {},
   "outputs": [],
   "source": [
    "repo = git.Repo('examine_repo')"
   ]
  },
  {
   "cell_type": "code",
   "execution_count": null,
   "metadata": {},
   "outputs": [],
   "source": [
    "def iterate_jobs_content():\n",
    "    for commit in tqdm(list(repo.iter_commits())):\n",
    "        filename = commit.tree / 'jobs.json'\n",
    "        with io.BytesIO(filename.data_stream.read()) as f:\n",
    "            yield json.loads(f.read().decode('utf-8'))"
   ]
  },
  {
   "cell_type": "code",
   "execution_count": null,
   "metadata": {},
   "outputs": [],
   "source": [
    "full = []\n",
    "\n",
    "for jobs in iterate_jobs_content():\n",
    "    if all([ c['status'] == 'completed' for c in jobs]):\n",
    "        full.append(jobs)"
   ]
  },
  {
   "cell_type": "code",
   "execution_count": null,
   "metadata": {},
   "outputs": [],
   "source": [
    "for i, j in enumerate(full):\n",
    "    json.dump(j, open(f'jobs_run{i+1}.json', 'w'), indent=2)"
   ]
  },
  {
   "cell_type": "code",
   "execution_count": null,
   "metadata": {},
   "outputs": [],
   "source": [
    "jsons = list(map(lambda x : json.load(open(x)), glob('jobs_run*.json')))"
   ]
  },
  {
   "cell_type": "code",
   "execution_count": null,
   "metadata": {},
   "outputs": [],
   "source": [
    "agreements = np.asarray([ (all(c['has_object'] == 0 for c in j) or all(c['has_object'] == 1 for c in j)) for j in zip(*jsons) ])"
   ]
  },
  {
   "cell_type": "code",
   "execution_count": null,
   "metadata": {},
   "outputs": [],
   "source": [
    "agreements.sum() / agreements.size"
   ]
  },
  {
   "cell_type": "code",
   "execution_count": null,
   "metadata": {},
   "outputs": [],
   "source": [
    "result = [\n",
    "    {\n",
    "        'cluster': c0['cluster'],\n",
    "        'has_object_0': c0['has_object'],\n",
    "        'has_object_1': c1['has_object'],\n",
    "        'has_object_2': c2['has_object'],\n",
    "    }\n",
    "    for c0, c1, c2 in zip(*jsons)\n",
    "]"
   ]
  },
  {
   "cell_type": "code",
   "execution_count": null,
   "metadata": {},
   "outputs": [],
   "source": [
    "json.dump(result, open('aggregate.json', 'w'), indent=2)"
   ]
  }
 ]
}